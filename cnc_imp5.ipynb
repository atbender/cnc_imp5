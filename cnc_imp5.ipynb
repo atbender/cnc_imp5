{
 "cells": [
  {
   "cell_type": "code",
   "execution_count": 1,
   "metadata": {},
   "outputs": [],
   "source": [
    "from numpy import log\n",
    "import numpy as np\n",
    "from math import exp\n",
    "import math\n",
    "import matplotlib.pyplot as plt"
   ]
  },
  {
   "cell_type": "code",
   "execution_count": 2,
   "metadata": {},
   "outputs": [],
   "source": [
    "# integrais\n",
    "'''\n",
    "    @param f funcao que sera diferenciada\n",
    "    @param a, b a eh o comeco do intervalo e b o fim\n",
    "    @param n numero de trapezios, quanto maior, mais preciso\n",
    "    @return integral calculada pelo metodo do trapezio no intervalo (a,b) com n trapezios\n",
    "'''\n",
    "def trapezio (f, a, b, n=100):\n",
    "    h = (b - a) / n\n",
    "    integral = 0;\n",
    "    for k in range(1, n):\n",
    "        integral += f(a + k*h)\n",
    "    integral *= 2\n",
    "    integral += f(a) + f(b)\n",
    "    return integral * (h/2)\n",
    "\n",
    "'''\n",
    "    @param f funcao que sera diferenciada\n",
    "    @param a, b a eh o comeco do intervalo e b o fim\n",
    "    @param n numero de trapezios, quanto maior, mais preciso\n",
    "    @return integral calculada pelo metodo 1/3 de simpson no intervalo (a,b) com n divisoes \n",
    "'''\n",
    "def simpson13 (f, a, b, n=100):\n",
    "    h = (b - a) / n\n",
    "    integral = 0\n",
    "    integral += f(a) + f(b)\n",
    "    for k in range(1, n):\n",
    "        if(k % 2 == 0):\n",
    "            integral += f(a + k * h) * 2\n",
    "        else:\n",
    "            integral += f(a + k * h) * 4\n",
    "    integral *= h/3\n",
    "    return integral\n",
    "\n",
    "'''\n",
    "    @param f funcao que sera diferenciada\n",
    "    @param a, b a eh o comeco do intervalo e b o fim\n",
    "    @param n numero de trapezios, quanto maior, mais preciso\n",
    "    @return integral calculada pelo metodo 3/8 de simpson no intervalo (a,b) com n divisoes \n",
    "'''\n",
    "def simpson38 (f, a, b, n=99):\n",
    "    h = (b - a) / n\n",
    "    integral = 0\n",
    "    integral += f(a) + f(b)\n",
    "    for k in range(1, n):\n",
    "        if(k % 3 != 0):\n",
    "            integral += f(a + k * h) * 3\n",
    "        else:\n",
    "            integral += f(a + k * h) * 2\n",
    "    integral *= (3 * h) / 8\n",
    "    return integral\n",
    "\n",
    "f = lambda x: x / (x**2 + 1)\n",
    "analytic_integral = lambda x: 0.5 * (log(x^2 + 1))"
   ]
  },
  {
   "cell_type": "code",
   "execution_count": 3,
   "metadata": {},
   "outputs": [
    {
     "name": "stdout",
     "output_type": "stream",
     "text": [
      "--- Exercicio 16 Integracao ---\n",
      "\n",
      "\n",
      "F(x) = x / (x^2 + 1)\n",
      "Intervalo = [0,1]\n",
      "\n",
      "Trapezio, 100 subintervalos:    0.34656525684246863861 - Erro absoluto: 0.0000083334\n",
      "Simpson 1/3, 100 subintervalos: 0.34657359069671872520 - Erro absoluto: 0.0000000004\n",
      "Simpson 3/8, 99 subintervalos:  0.34657359125630887720 - Erro absoluto: 0.0000000010\n"
     ]
    }
   ],
   "source": [
    "analytic_f = analytic_integral(1)\n",
    "trapezio_f = trapezio(f, 0, 1)\n",
    "simpson13_f = simpson13(f, 0, 1)\n",
    "simpson38_f = simpson38(f, 0, 1)\n",
    "print('--- Exercicio 16 Integracao ---\\n\\n')\n",
    "print('F(x) = x / (x^2 + 1)')\n",
    "print('Intervalo = [0,1]\\n')\n",
    "print('Trapezio, 100 subintervalos:    {:.20f} - Erro absoluto: {:.10f}'.format(trapezio_f, abs(analytic_f - trapezio_f)))\n",
    "print('Simpson 1/3, 100 subintervalos: {:.20f} - Erro absoluto: {:.10f}'.format(simpson13_f, abs(analytic_f - simpson13_f)))\n",
    "print('Simpson 3/8, 99 subintervalos:  {:.20f} - Erro absoluto: {:.10f}'.format(simpson38_f, abs(analytic_f - simpson38_f)))"
   ]
  },
  {
   "cell_type": "code",
   "execution_count": 4,
   "metadata": {},
   "outputs": [
    {
     "name": "stdout",
     "output_type": "stream",
     "text": [
      "Quantidade de fluido/tempo aproximado: 7.1448792922\n",
      "Valor Exato:                           7.1807832082\n",
      "Erro absoluto: 0.0359039160\n"
     ]
    }
   ],
   "source": [
    "# Exercício Integração 6 (16)\n",
    "# Resolucao: Metodo do trapezio no primeiro intervalo (0,2) e simpson 3/8 no segundo intervalo (2,4)\n",
    "pi = 3.14159265359\n",
    "\n",
    "# Integral a ser calculada\n",
    "r = lambda x: x * (3 * (1 - x/4)*(1/7))\n",
    "\n",
    "# Integral calculada analiticamente\n",
    "exact_r = lambda x: (-3/28) * (((x ** 3) / 3) - 2 * (x ** 2))\n",
    "\n",
    "# Solucao\n",
    "solution = trapezio(r, 0, 2, 5) + simpson38(r, 2, 4, 6)\n",
    "solution *= 2 * pi\n",
    "\n",
    "exact_solution = 2 * pi * (exact_r(4) - exact_r(0))\n",
    "print('Quantidade de fluido/tempo aproximado: {0:.10f}'.format(solution))\n",
    "print('Valor Exato:                           {0:.10f}'.format(exact_solution))\n",
    "print('Erro absoluto: {0:.10f}'.format(abs(exact_solution - solution)))"
   ]
  },
  {
   "cell_type": "code",
   "execution_count": 5,
   "metadata": {},
   "outputs": [],
   "source": [
    "# Derivadas\n",
    "\n",
    "def integral_euler(f, xi, xe, y0, n=1e6):\n",
    "    \"\"\"\n",
    "    integral = integral_euler(f, xi, xe, n=1e6)\n",
    " \n",
    "    INPUT:\n",
    "      * f: derivative function f(x, y) = dy/dx\n",
    "      * xi: beginning of integration interval\n",
    "      * xe: end of integration interval\n",
    "      * y0: initial estimative for y\n",
    "      * n: number of points used\n",
    " \n",
    "    return: \\int_{xi}^{xe} f(x)\n",
    " \n",
    "    \"\"\"\n",
    "    def euler(x, y, h):\n",
    "        return (x + h, y + f(x, y) * h)\n",
    " \n",
    "    def integrator(x, y, h, n):\n",
    "        for i in range(n):\n",
    "            (x, y) = euler(x, y, h)\n",
    "        return y\n",
    " \n",
    "    (y, x) = (y0, xi)\n",
    "    h = abs(xe - xi) / n\n",
    "    return integrator(x, y, h, int(n))\n"
   ]
  },
  {
   "cell_type": "code",
   "execution_count": 6,
   "metadata": {},
   "outputs": [
    {
     "name": "stdout",
     "output_type": "stream",
     "text": [
      "n= 100  euler= 0.5937424601000001  error= 0.124539368359045\n",
      "n= 1000  euler= 0.7048138294215264  error= 0.013467999037518719\n",
      "n= 10000  euler= 0.7169239322358921  error= 0.0013578962231529657\n",
      "n= 100000  euler= 0.7181459268251689  error= 0.00013590163387622312\n",
      "n= 1000000  euler= 0.7182682371741677  error= 1.359128487743444e-05\n",
      "n= 10000000  euler= 0.7182804693181415  error= 1.3591409036006752e-06\n",
      "n= 100000000  euler= 0.7182816924814007  error= 1.3597764436656945e-07\n",
      "n= 1000000000  euler= 0.7182818153812982  error= 1.3077746885414854e-08\n"
     ]
    }
   ],
   "source": [
    "f = lambda x, y: x + y\n",
    "F = lambda x: -1.0 - x + exp(x)\n",
    "analytical = F(1) - F(0)\n",
    "n = 1e1\n",
    "while n <= 1e8:\n",
    "    numerical = integral_euler(f, 0, 1, 0, n)\n",
    "    err = abs(numerical - analytical)\n",
    "    n *= 1e1\n",
    "    print(\"n=\", int(n), \" euler=\", numerical, \" error=\", err)"
   ]
  },
  {
   "cell_type": "code",
   "execution_count": 7,
   "metadata": {},
   "outputs": [],
   "source": [
    "def ralston(f, x, y, h):\n",
    "    k1 = f(x, y)\n",
    "    k2 = f(x + 0.75 * h, y + 0.75 * h * k1)\n",
    "    y1 = y + (0.333 * k1 + 0.6667 * k2) * h\n",
    "    x1 = x + h\n",
    "    return (x1, y1)\n",
    "\n",
    "def midpoint(f, x, y, h):\n",
    "    k1 = f(x, y)\n",
    "    k2 = f(x + 0.5 * h, y + 0.5 * k1 * h)\n",
    "    y1 = y + k2 * h\n",
    "    x1 = x + h\n",
    "    return (x1, y1)\n",
    "\n",
    "def heun(f, x, y, h):\n",
    "    k1 = f(x, y)\n",
    "    k2 = f(x + h, y + k1 * h)\n",
    "    y1 = y + (0.5 * k1 + 0.5 * k2) * h\n",
    "    x1 = x + h\n",
    "    return (x1, y1)\n",
    "    \n",
    "def integral_runge_kuta_order_2(f, xi, xe, y0, n=1e6, method=ralston):\n",
    "    \"\"\"\n",
    "    Numerical integration for solve ODE's using Second Order Runge-Kuta\n",
    " \n",
    "    integral = integral_runge_kuta_order_2(f, xi, xe, n=1e6)\n",
    " \n",
    "    INPUT:\n",
    "      * f: derivative function f(x, y) = dy/dx\n",
    "      * xi: beginning of integration interval\n",
    "      * xe: end of integration interval\n",
    "      * y0: initial estimative for y\n",
    "      * n: number of points used\n",
    "      * method: method used to solve a unique step (ralston, heun or midpoint)\n",
    " \n",
    "    return: \\int_{xi}^{xe} f(x)\n",
    "    \"\"\"\n",
    "\n",
    "    def integrator(x, y, h, n):\n",
    "        for i in range(n):\n",
    "            (x, y) = method(f, x, y, h)\n",
    "        return y\n",
    " \n",
    "    (y, x) = (y0, xi)\n",
    "    h = abs(xe - xi) / n\n",
    "    return integrator(x, y, h, int(n))\n",
    "\n",
    "\n"
   ]
  },
  {
   "cell_type": "code",
   "execution_count": 8,
   "metadata": {},
   "outputs": [
    {
     "name": "stdout",
     "output_type": "stream",
     "text": [
      "   n      Rals    Err(Rals)   Midp    Err(Midp)   Heun   Err(Heun)\n",
      "1.0e+02  0.71384   4.4e-03   0.71408   4.2e-03   0.71408   4.2e-03\n",
      "1.0e+03  0.71794   3.4e-04   0.71824   4.5e-05   0.71824   4.5e-05\n",
      "1.0e+04  0.71798   3.0e-04   0.71828   4.5e-07   0.71828   4.5e-07\n",
      "1.0e+05  0.71798   3.0e-04   0.71828   4.5e-09   0.71828   4.5e-09\n",
      "1.0e+06  0.71798   3.0e-04   0.71828   4.6e-11   0.71828   4.6e-11\n",
      "1.0e+07  0.71798   3.0e-04   0.71828   1.7e-12   0.71828   1.7e-12\n",
      "1.0e+08  0.71798   3.0e-04   0.71828   6.4e-11   0.71828   6.4e-11\n",
      "1.0e+09  0.71798   3.0e-04   0.71828   5.1e-10   0.71828   5.1e-10\n"
     ]
    }
   ],
   "source": [
    "f = lambda x, y: x + y\n",
    "F = lambda x: -1.0 - x + exp(x)\n",
    "analytical = F(1) - F(0)\n",
    "n = 1e1\n",
    "head = \"   n      Rals    Err(Rals)   Midp    Err(Midp)   Heun   Err(Heun)\"\n",
    "fmt = \"%1.1e  %1.5f   %1.1e   %1.5f   %1.1e   %1.5f   %1.1e\"\n",
    "print(head)\n",
    "while n <= 1e8:\n",
    "    ralstonsol = integral_runge_kuta_order_2(f, 0, 1, 0, n, ralston)\n",
    "    midpointsol = integral_runge_kuta_order_2(f, 0, 1, 0, n, midpoint)\n",
    "    heunsol = integral_runge_kuta_order_2(f, 0, 1, 0, n, heun)\n",
    "    eRalst = abs(ralstonsol - analytical)\n",
    "    eMid = abs(midpointsol - analytical)\n",
    "    eHeun = abs(heunsol - analytical)\n",
    "    n *= 1e1\n",
    "    out = fmt % (n, ralstonsol, eRalst, midpointsol, eMid, heunsol, eHeun)\n",
    "    print(out)"
   ]
  },
  {
   "cell_type": "code",
   "execution_count": 9,
   "metadata": {},
   "outputs": [],
   "source": [
    "def ralston4order(f, x, y, h):\n",
    "    k1 = f(x, y)\n",
    "    k2 = f(x + 0.5 * h, y + 0.5 * k1 * h)\n",
    "    k3 = f(x + 0.5 * h, y + 0.5 * k2 * h)\n",
    "    k4 = f(x + h, y + k3 * h)\n",
    "    y1 = y + (1. / 6.) * (k1 + 2 * k2 + 2 * k3 + k4) * h\n",
    "    x1 = x + h\n",
    "    return (x1, y1)\n",
    "\n",
    "\n",
    "def integral_runge_kuta_order_4(f, xi, xe, y0, n=1e6, method=ralston4order):\n",
    "    \"\"\"\n",
    "    Numerical integration for solve ODE's using Forth Order Runge-Kuta\n",
    "\n",
    "    integral = integral_runge_kuta_order_4(f, xi, xe, n=1e6)\n",
    "\n",
    "    INPUT:\n",
    "      * f: derivative function f(x, y) = dy/dx\n",
    "      * xi: beginning of integration interval\n",
    "      * xe: end of integration interval\n",
    "      * y0: initial estimative for y\n",
    "      * n: number of points used\n",
    "      * method: method used to solve a unique step (ralston4order)\n",
    "\n",
    "    return: \\int_{xi}^{xe} f(x)\n",
    "    \"\"\"\n",
    "    def integrator(x, y, h, n):\n",
    "        for i in range(n):\n",
    "            \n",
    "            (x, y) = method(f, x, y, h)\n",
    "            \n",
    "        return y\n",
    "\n",
    "    (y, x) = (y0, xi)\n",
    "    \n",
    "    \n",
    "    \n",
    "    h = abs(xe - xi) / n\n",
    "    \n",
    "    return integrator(x, y, h, int(n))    "
   ]
  },
  {
   "cell_type": "code",
   "execution_count": 10,
   "metadata": {
    "scrolled": true
   },
   "outputs": [
    {
     "name": "stdout",
     "output_type": "stream",
     "text": [
      "   n      Rals    Err(Rals)\n",
      "1.0e+02  0.71828   2.1e-06\n",
      "1.0e+03  0.71828   2.2e-10\n",
      "1.0e+04  0.71828   2.2e-14\n",
      "1.0e+05  0.71828   5.0e-14\n",
      "1.0e+06  0.71828   3.3e-13\n",
      "1.0e+07  0.71828   1.2e-12\n",
      "1.0e+08  0.71828   6.4e-11\n"
     ]
    }
   ],
   "source": [
    "f = lambda x, y: x + y\n",
    "F = lambda x: -1.0 - x + exp(x)\n",
    "analytical = F(1) - F(0)\n",
    "n = 1e1\n",
    "head = \"   n      Rals    Err(Rals)\"\n",
    "fmt = \"%1.1e  %1.5f   %1.1e\"\n",
    "print(head)\n",
    "while n <= 1e7:\n",
    "    ralstonsol = integral_runge_kuta_order_4(f, 0, 1, 0, n)\n",
    "    eRalst = abs(ralstonsol - analytical)\n",
    "    n *= 1e1\n",
    "    out = fmt % (n, ralstonsol, eRalst)\n",
    "    print(out)"
   ]
  },
  {
   "cell_type": "code",
   "execution_count": 11,
   "metadata": {
    "scrolled": true
   },
   "outputs": [
    {
     "name": "stdout",
     "output_type": "stream",
     "text": [
      "--- Exercicio 16 Derivação ---\n",
      "\n",
      "\n",
      "F(x) = e^x + 4 * x\n",
      "Intervalo = [0,1]\n",
      "\n",
      "Euler, 99 subintervalos:          0.70481382942152637217 - Erro absoluto: 5.0134679990\n",
      "Runge-Kutta 2, 99 subintervalos:  0.71794311544107036749 - Erro absoluto: 5.0003387130\n",
      "Runge-Kutta 4, 99 subintervalos:  0.71828182823440189786 - Erro absoluto: 5.0000000002\n"
     ]
    },
    {
     "data": {
      "image/png": "[encoded data removed]",
      "text/plain": [
       "<Figure size 432x288 with 1 Axes>"
      ]
     },
     "metadata": {
      "needs_background": "light"
     },
     "output_type": "display_data"
    }
   ],
   "source": [
    "f = lambda x, y: x + y\n",
    "F = lambda x: exp(x) + 4*x\n",
    "analytic_f = F(1) - F(0)\n",
    "\n",
    "euler_f = integral_euler(f, 0, 1, 0, n=100)\n",
    "rungekutta2_f = integral_runge_kuta_order_2(f, 0, 1, 0, n=100, method=ralston)\n",
    "rungekutta4_f = integral_runge_kuta_order_4(f, 0, 1, 0, n=100, method=ralston4order)\n",
    "\n",
    "print('--- Exercicio 16 Derivação ---\\n\\n')\n",
    "print('F(x) = e^x + 4 * x')\n",
    "print('Intervalo = [0,1]\\n')\n",
    "print('Euler, 99 subintervalos:          {:.20f} - Erro absoluto: {:.10f}'.format(euler_f, abs(analytic_f - euler_f)))\n",
    "print('Runge-Kutta 2, 99 subintervalos:  {:.20f} - Erro absoluto: {:.10f}'.format(rungekutta2_f, abs(analytic_f - rungekutta2_f)))\n",
    "print('Runge-Kutta 4, 99 subintervalos:  {:.20f} - Erro absoluto: {:.10f}'.format(rungekutta4_f, abs(analytic_f - rungekutta4_f)))\n",
    "\n",
    "        \n",
    "xvals = np.linspace(0,6,100)\n",
    "yvals = list(map(F, xvals))\n",
    "plt.plot(xvals, yvals)\n",
    "plt.show()"
   ]
  },
  {
   "cell_type": "code",
   "execution_count": 12,
   "metadata": {},
   "outputs": [
    {
     "name": "stdout",
     "output_type": "stream",
     "text": [
      "Runge-Kutta 2, 99 subintervalos:  0.71794311544107036749 - Erro absoluto: 7.3343154450\n"
     ]
    }
   ],
   "source": [
    "f = lambda x, y: x + y\n",
    "F = lambda x: 12* math.cos(x)  - 0.1*x - x**3\n",
    "analytic_f = F(1) - F(0)\n",
    "\n",
    "rungekutta2_f = integral_runge_kuta_order_2(f, 0, 1, 0, n=100, method=ralston)\n",
    "\n",
    "print('Runge-Kutta 2, 99 subintervalos:  {:.20f} - Erro absoluto: {:.10f}'.format(rungekutta2_f, abs(analytic_f - rungekutta2_f)))"
   ]
  },
  {
   "cell_type": "code",
   "execution_count": null,
   "metadata": {},
   "outputs": [],
   "source": []
  }
 ],
 "metadata": {
  "kernelspec": {
   "display_name": "Python 3",
   "language": "python",
   "name": "python3"
  },
  "language_info": {
   "codemirror_mode": {
    "name": "ipython",
    "version": 3
   },
   "file_extension": ".py",
   "mimetype": "text/x-python",
   "name": "python",
   "nbconvert_exporter": "python",
   "pygments_lexer": "ipython3",
   "version": "3.7.0"
  }
 },
 "nbformat": 4,
 "nbformat_minor": 2
}
